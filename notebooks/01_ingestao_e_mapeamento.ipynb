{
 "cells": [
  {
   "cell_type": "markdown",
   "id": "db4068ea",
   "metadata": {},
   "source": [
    "# 📥 Ingestão e Mapeamento das Tabelas\n",
    "\n",
    "## ✅ Objetivo do Notebook\n",
    "\n",
    "Este notebook executa as seguintes tarefas principais:\n",
    "\n",
    "---\n",
    "\n",
    "### 1. 🔍 Comparação entre Datasets de Mesmo Tipo\n",
    "\n",
    "Verifica se estruturas de **tabelas semelhantes podem ser empilhadas**, garantindo a consistência do schema entre tabelas fragmentadas.\n",
    "\n",
    "---\n",
    "\n",
    "### 2. 📝 Criação de Arquivo `.json` com a Descrição das Tabelas\n",
    "\n",
    "Gera automaticamente um **arquivo com metadados estruturais** de cada tabela, incluindo nomes de colunas, tipos de dados, totais e presença de chave primária.\n",
    "\n",
    "---\n",
    "\n",
    "### 3. 📖 Geração de Dicionário de Variáveis (em Português)\n",
    "\n",
    "Cria um **mapeamento interpretável das variáveis**, facilitando a compreensão dos nomes técnicos e tornando a análise mais acessível.\n"
   ]
  },
  {
   "cell_type": "markdown",
   "id": "2d21acee",
   "metadata": {},
   "source": [
    "### Criação da SparkSession"
   ]
  },
  {
   "cell_type": "code",
   "execution_count": 1,
   "id": "0eaeb4e8",
   "metadata": {},
   "outputs": [],
   "source": [
    "# Criação da SparkSession\n",
    "from pyspark.sql import SparkSession\n",
    "\n",
    "spark = SparkSession.builder \\\n",
    "    .appName(\"ExemploSparkSession\") \\\n",
    "    .getOrCreate()"
   ]
  },
  {
   "cell_type": "markdown",
   "id": "3d39ccc5",
   "metadata": {},
   "source": [
    "### Importações"
   ]
  },
  {
   "cell_type": "code",
   "execution_count": 67,
   "id": "6cc164ed",
   "metadata": {},
   "outputs": [],
   "source": [
    "from pyspark.sql.functions import col, when, count, isnan, isnull, countDistinct\n",
    "import json\n",
    "import pandas as pd\n",
    "import os\n",
    "import glob"
   ]
  },
  {
   "cell_type": "code",
   "execution_count": 71,
   "id": "01d6d732",
   "metadata": {},
   "outputs": [],
   "source": [
    "diretorio = r\"C:\\Users\\fred\\meu_projeto_etl\""
   ]
  },
  {
   "cell_type": "markdown",
   "id": "1fb3aadf",
   "metadata": {},
   "source": [
    "### 🔍Comparação entre datasets do mesmo tipo"
   ]
  },
  {
   "cell_type": "code",
   "execution_count": 21,
   "id": "5b9de556",
   "metadata": {},
   "outputs": [],
   "source": [
    "## Carregamento das tabelas necessárias para validação de empilhamento\n",
    "caminho = r\"C:\\Users\\fred\\meu_projeto_etl\\data\\raw\\train\"\n",
    "train_base = spark.read.parquet(f\"{caminho}\\\\train_base.parquet\")\n",
    "train_applprev_1_0 = spark.read.parquet(f\"{caminho}\\\\train_applprev_1_0.parquet\")\n",
    "train_applprev_1_1 = spark.read.parquet(f\"{caminho}\\\\train_applprev_1_1.parquet\")\n",
    "train_credit_bureau_a_1_0 = spark.read.parquet(f\"{caminho}\\\\train_credit_bureau_a_1_0.parquet\")\n",
    "train_credit_bureau_a_1_1 = spark.read.parquet(f\"{caminho}\\\\train_credit_bureau_a_1_1.parquet\")\n",
    "train_credit_bureau_a_2_0 = spark.read.parquet(f\"{caminho}\\\\train_credit_bureau_a_2_0.parquet\")\n",
    "train_credit_bureau_b_1 = spark.read.parquet(f\"{caminho}\\\\train_credit_bureau_b_1.parquet\")\n",
    "train_credit_bureau_b_2 = spark.read.parquet(f\"{caminho}\\\\train_credit_bureau_b_2.parquet\")\n",
    "train_debitcard_1 = spark.read.parquet(f\"{caminho}\\\\train_debitcard_1.parquet\")\n",
    "train_deposit_1 = spark.read.parquet(f\"{caminho}\\\\train_deposit_1.parquet\")\n",
    "train_other_1 = spark.read.parquet(f\"{caminho}\\\\train_other_1.parquet\")\n",
    "train_person_1 = spark.read.parquet(f\"{caminho}\\\\train_person_1.parquet\")\n",
    "train_person_2 = spark.read.parquet(f\"{caminho}\\\\train_person_2.parquet\")\n",
    "train_static_0_0 = spark.read.parquet(f\"{caminho}\\\\train_static_0_0.parquet\")\n",
    "train_static_0_1 = spark.read.parquet(f\"{caminho}\\\\train_static_0_1.parquet\")\n",
    "train_stati_cb_0 = spark.read.parquet(f\"{caminho}\\\\train_static_cb_0.parquet\")\n",
    "train_tax_registry_a_1 = spark.read.parquet(f\"{caminho}\\\\train_tax_registry_a_1.parquet\")\n",
    "train_tax_registry_b_1 = spark.read.parquet(f\"{caminho}\\\\train_tax_registry_b_1.parquet\")\n",
    "train_tax_registry_c_1 = spark.read.parquet(f\"{caminho}\\\\train_tax_registry_c_1.parquet\")\n",
    "train_credit_bureau_a_2_1 = spark.read.parquet(f\"{caminho}\\\\train_credit_bureau_a_2_1.parquet\")\n",
    "train_credit_bureau_a_2_5 = spark.read.parquet(f\"{caminho}\\\\train_credit_bureau_a_2_5.parquet\")\n",
    "train_credit_bureau_a_2_10= spark.read.parquet(f\"{caminho}\\\\train_credit_bureau_a_2_10.parquet\")"
   ]
  },
  {
   "cell_type": "code",
   "execution_count": 10,
   "id": "b69f0568",
   "metadata": {},
   "outputs": [],
   "source": [
    "## Função para avaliar tabelas com colunas iguais\n",
    "def comparar_tabelas(tabela1, tabela2):\n",
    "    colunas1 = set(tabela1)\n",
    "    colunas2 = set(tabela2)\n",
    "    \n",
    "    if colunas1 == colunas2:\n",
    "        print(\"✅ Colunas iguais (ignora ordem).\")\n",
    "    else:\n",
    "        print(\"✅ Colunas diferentes (ignora ordem).\")"
   ]
  },
  {
   "cell_type": "code",
   "execution_count": 22,
   "id": "e9cc787c",
   "metadata": {},
   "outputs": [
    {
     "name": "stdout",
     "output_type": "stream",
     "text": [
      "✅ Colunas iguais (ignora ordem).\n"
     ]
    }
   ],
   "source": [
    "comparar_tabelas(train_applprev_1_0.columns, train_applprev_1_1.columns)"
   ]
  },
  {
   "cell_type": "code",
   "execution_count": 7,
   "id": "50ef6255",
   "metadata": {},
   "outputs": [
    {
     "name": "stdout",
     "output_type": "stream",
     "text": [
      "✅ Colunas iguais (ignora ordem).\n"
     ]
    }
   ],
   "source": [
    "comparar_tabelas(train_applprev_1_0.columns, train_applprev_1_1.columns)"
   ]
  },
  {
   "cell_type": "code",
   "execution_count": 8,
   "id": "57bdfdc8",
   "metadata": {},
   "outputs": [
    {
     "name": "stdout",
     "output_type": "stream",
     "text": [
      "✅ Colunas iguais (ignora ordem).\n"
     ]
    }
   ],
   "source": [
    "comparar_tabelas(train_credit_bureau_a_1_0.columns, train_credit_bureau_a_1_1.columns)"
   ]
  },
  {
   "cell_type": "code",
   "execution_count": 11,
   "id": "348eb71e",
   "metadata": {},
   "outputs": [
    {
     "name": "stdout",
     "output_type": "stream",
     "text": [
      "✅ Colunas diferentes (ignora ordem).\n"
     ]
    }
   ],
   "source": [
    "comparar_tabelas(train_credit_bureau_a_1_0.columns, train_credit_bureau_a_2_0.columns)"
   ]
  },
  {
   "cell_type": "code",
   "execution_count": 12,
   "id": "705bf1f6",
   "metadata": {},
   "outputs": [
    {
     "name": "stdout",
     "output_type": "stream",
     "text": [
      "✅ Colunas iguais (ignora ordem).\n"
     ]
    }
   ],
   "source": [
    "comparar_tabelas(train_static_0_0.columns, train_static_0_1.columns)"
   ]
  },
  {
   "cell_type": "code",
   "execution_count": 13,
   "id": "da3a88d0",
   "metadata": {},
   "outputs": [
    {
     "name": "stdout",
     "output_type": "stream",
     "text": [
      "✅ Colunas diferentes (ignora ordem).\n"
     ]
    }
   ],
   "source": [
    "comparar_tabelas(train_tax_registry_a_1.columns, train_tax_registry_b_1.columns)"
   ]
  },
  {
   "cell_type": "code",
   "execution_count": 14,
   "id": "07cb9072",
   "metadata": {},
   "outputs": [
    {
     "name": "stdout",
     "output_type": "stream",
     "text": [
      "✅ Colunas iguais (ignora ordem).\n"
     ]
    }
   ],
   "source": [
    "comparar_tabelas(train_credit_bureau_a_2_0.columns, train_credit_bureau_a_2_10.columns)"
   ]
  },
  {
   "cell_type": "markdown",
   "id": "026df463",
   "metadata": {},
   "source": [
    "## 📊 Resultado das Comparações\n",
    "### 🧩 Estrutura dos Nomes dos Datasets\n",
    "\n",
    "A nomenclatura dos arquivos segue um padrão que permite identificar suas subdivisões em grupos, com a seguinte estrutura:\n",
    "\n",
    "(treino_ou_teste)_(fonte_de_dados)_(grupo_de_variáveis)(subgrupo)\n",
    "\n",
    "\n",
    "treino_ou_teste: Indica se o dataset pertence ao conjunto de treino (train) ou teste (test).\n",
    "\n",
    "fonte_de_dados: Define a origem da informação (por exemplo: credit_bureau, applprev, tax_registry, static).\n",
    "\n",
    "grupo_de_variáveis: Agrupa variáveis com características semelhantes ou função analítica similar.\n",
    "\n",
    "subgrupo (opcional): Representa uma subdivisão ainda mais específica, quando aplicável.\n",
    "\n",
    "### 🧱 Possibilidade de Empilhamento\n",
    "\n",
    "Os datasets que compartilham o mesmo nome até a parte de <grupo_de_variáveis> podem ser empilhados (concatenados) de forma segura, pois representam a mesma estrutura sem conflito semântico. Essa estratégia é útil para consolidação e análise integrada entre diferentes clientes ou aplicações."
   ]
  },
  {
   "cell_type": "markdown",
   "id": "bc74bd7e",
   "metadata": {},
   "source": [
    "## 📝 Criação de arquivo .json com a descrição das tabelas"
   ]
  },
  {
   "cell_type": "code",
   "execution_count": 64,
   "id": "234401da",
   "metadata": {},
   "outputs": [
    {
     "name": "stdout",
     "output_type": "stream",
     "text": [
      "✅ train_applprev_1 carregado com 2 arquivo(s).\n",
      "✅ train_applprev_2 carregado com 1 arquivo(s).\n",
      "✅ train_credit_bureau_a_1 carregado com 4 arquivo(s).\n",
      "✅ train_credit_bureau_a_2 carregado com 11 arquivo(s).\n",
      "✅ train_credit_bureau_b_1 carregado com 1 arquivo(s).\n",
      "✅ train_credit_bureau_b_2 carregado com 1 arquivo(s).\n",
      "✅ train_static_0 carregado com 2 arquivo(s).\n",
      "✅ train_base carregado com 1 arquivo(s).\n",
      "✅ train_debitcard_1 carregado com 1 arquivo(s).\n",
      "✅ train_deposit_1 carregado com 1 arquivo(s).\n",
      "✅ train_other_1 carregado com 1 arquivo(s).\n",
      "✅ train_person_1 carregado com 1 arquivo(s).\n",
      "✅ train_person_2 carregado com 1 arquivo(s).\n",
      "✅ train_static_cb_0 carregado com 1 arquivo(s).\n",
      "✅ train_tax_registry_a_1 carregado com 1 arquivo(s).\n",
      "✅ train_tax_registry_b_1 carregado com 1 arquivo(s).\n",
      "✅ train_tax_registry_c_1 carregado com 1 arquivo(s).\n",
      "\n",
      "📦 Variáveis carregadas:\n",
      " - train_applprev_1\n",
      " - train_applprev_2\n",
      " - train_credit_bureau_a_1\n",
      " - train_credit_bureau_a_2\n",
      " - train_credit_bureau_b_1\n",
      " - train_credit_bureau_b_2\n",
      " - train_static_0\n",
      " - train_base\n",
      " - train_debitcard_1\n",
      " - train_deposit_1\n",
      " - train_other_1\n",
      " - train_person_1\n",
      " - train_person_2\n",
      " - train_static_cb_0\n",
      " - train_tax_registry_a_1\n",
      " - train_tax_registry_b_1\n",
      " - train_tax_registry_c_1\n"
     ]
    }
   ],
   "source": [
    "# Caminho base dos arquivos\n",
    "caminho_base = f\"{diretorio}\\\\data\\raw\\train\"\n",
    "\n",
    "# Lista dos grupos esperados\n",
    "grupos = [\n",
    "    \"train_applprev_1\",\n",
    "    \"train_applprev_2\",\n",
    "    \"train_credit_bureau_a_1\",\n",
    "    \"train_credit_bureau_a_2\",\n",
    "    \"train_credit_bureau_b_1\",\n",
    "    \"train_credit_bureau_b_2\",\n",
    "    \"train_static_0\",\n",
    "    \"train_base\",\n",
    "    \"train_debitcard_1\",\n",
    "    \"train_deposit_1\",\n",
    "    \"train_other_1\",\n",
    "    \"train_person_1\",\n",
    "    \"train_person_2\",\n",
    "    \"train_static_cb_0\",\n",
    "    \"train_tax_registry_a_1\",\n",
    "    \"train_tax_registry_b_1\",\n",
    "    \"train_tax_registry_c_1\"\n",
    "]\n"
   ]
  },
  {
   "cell_type": "markdown",
   "id": "2a71eeb0",
   "metadata": {},
   "source": [
    "### Empilhamento de tabelas"
   ]
  },
  {
   "cell_type": "code",
   "execution_count": null,
   "id": "debf1276",
   "metadata": {},
   "outputs": [],
   "source": [
    "# Função para carregar e empilhar arquivos de um mesmo grupo\n",
    "def carregar_e_empilhar(grupo):\n",
    "    padrao = os.path.join(caminho_base, f\"{grupo}_*.parquet\")\n",
    "    arquivos = sorted(glob.glob(padrao))\n",
    "\n",
    "    # Também tenta carregar arquivo único exato (sem sufixo)\n",
    "    arquivo_unico = os.path.join(caminho_base, f\"{grupo}.parquet\")\n",
    "    if os.path.exists(arquivo_unico):\n",
    "        arquivos.append(arquivo_unico)\n",
    "\n",
    "    if not arquivos:\n",
    "        print(f\"🚫 Nenhum arquivo encontrado para {grupo}\")\n",
    "        return None\n",
    "\n",
    "    colunas_padrao = None\n",
    "    dfs_validos = []\n",
    "\n",
    "    for arquivo in arquivos:\n",
    "        df = spark.read.parquet(arquivo)\n",
    "        colunas_atuais = df.columns\n",
    "\n",
    "        if colunas_padrao is None:\n",
    "            colunas_padrao = colunas_atuais\n",
    "            dfs_validos.append(df)\n",
    "        elif colunas_atuais == colunas_padrao:\n",
    "            dfs_validos.append(df)\n",
    "        else:\n",
    "            print(f\"🚫 Colunas diferentes no arquivo: {arquivo}\")\n",
    "            print(f\"    Esperado: {colunas_padrao}\")\n",
    "            print(f\"    Encontrado: {colunas_atuais}\")\n",
    "\n",
    "    if not dfs_validos:\n",
    "        print(f\"⚠️ Nenhum DataFrame válido para {grupo}\")\n",
    "        return None\n",
    "\n",
    "    # Empilhar os DataFrames (mesmas colunas)\n",
    "    df_final = dfs_validos[0]\n",
    "    for df in dfs_validos[1:]:\n",
    "        df_final = df_final.unionByName(df)\n",
    "\n",
    "    print(f\"✅ {grupo} carregado com {len(dfs_validos)} arquivo(s).\")\n",
    "    return df_final"
   ]
  },
  {
   "cell_type": "code",
   "execution_count": null,
   "id": "cf78d0df",
   "metadata": {},
   "outputs": [],
   "source": [
    "# Dicionário com os DataFrames carregados com sucesso\n",
    "variaveis_criadas = {}\n",
    "\n",
    "# Carregar todos os grupos\n",
    "for grupo in grupos:\n",
    "    df = carregar_e_empilhar(grupo)\n",
    "    if df is not None:\n",
    "        variaveis_criadas[grupo] = df\n",
    "\n",
    "# Exibir nomes dos DataFrames criados\n",
    "print(\"\\n📦 Variáveis carregadas:\")\n",
    "for nome in variaveis_criadas:\n",
    "    print(f\" - {nome}\")"
   ]
  },
  {
   "cell_type": "code",
   "execution_count": 65,
   "id": "8e8073d3",
   "metadata": {},
   "outputs": [],
   "source": [
    "## Função para arquivo de descrição das tabelas\n",
    "def analise_basica_spark_dict(df, nome_tabela, chave_primaria=None):\n",
    "    schema = [(f.name, f.dataType.simpleString()) for f in df.schema.fields]\n",
    "    n_regis = df.count()\n",
    "    n_col = len(df.columns)\n",
    "    print(f'Tabela: {nome_tabela}')\n",
    "    print(f'Número de registros: {n_regis}')\n",
    "    print(f'Número de colunas: {n_col}')\n",
    "    describe_df = df.describe()\n",
    "    print(describe_df)\n",
    "    describe_data = {row[\"summary\"]: {col: row[col] for col in row.asDict() if col != \"summary\"} for row in describe_df.collect()}\n",
    "\n",
    "    nulls_expr = [\n",
    "        ((count(when(col(c).isNull(), c)) / n_regis) * 100).alias(c)\n",
    "        for c in df.columns\n",
    "    ]\n",
    "    nulls_df = df.select(nulls_expr)\n",
    "    nulls_dict = nulls_df.collect()[0].asDict()\n",
    "    nulls_filtrados = {k: round(v, 2) for k, v in nulls_dict.items() if v > 0}\n",
    "\n",
    "    pk_status = \"não verificada\"\n",
    "    if chave_primaria:\n",
    "        if chave_primaria not in df.columns:\n",
    "            pk_status = \"coluna inexistente\"\n",
    "        else:\n",
    "            distinct_count = df.select(chave_primaria).distinct().count()\n",
    "            pk_status = \"válida\" if distinct_count == n_regis else \"inválida\"\n",
    "\n",
    "    return {\n",
    "        \"tabela\": nome_tabela,\n",
    "        \"total_registros\": n_regis,\n",
    "        \"total_colunas\": n_col,\n",
    "        \"schema\": schema,\n",
    "        \"describe\": describe_data,\n",
    "        \"colunas_com_nulos\": nulls_filtrados,\n",
    "        \"chave_primaria\": {\n",
    "            \"coluna\": chave_primaria,\n",
    "            \"status\": pk_status\n",
    "        }\n",
    "    }\n"
   ]
  },
  {
   "cell_type": "code",
   "execution_count": 68,
   "id": "b0e0b1b8",
   "metadata": {},
   "outputs": [
    {
     "name": "stdout",
     "output_type": "stream",
     "text": [
      "Tabela: train_applprev_1\n",
      "Número de registros: 6525979\n",
      "Número de colunas: 41\n",
      "DataFrame[summary: string, case_id: string, actualdpd_943P: string, annuity_853A: string, approvaldate_319D: string, byoccupationinc_3656910L: string, cancelreason_3545846M: string, childnum_21L: string, creationdate_885D: string, credacc_actualbalance_314A: string, credacc_credlmt_575A: string, credacc_maxhisbal_375A: string, credacc_minhisbal_90A: string, credacc_status_367L: string, credacc_transactions_402L: string, credamount_590A: string, credtype_587L: string, currdebt_94A: string, dateactivated_425D: string, district_544M: string, downpmt_134A: string, dtlastpmt_581D: string, dtlastpmtallstes_3545839D: string, education_1138M: string, employedfrom_700D: string, familystate_726L: string, firstnonzeroinstldate_307D: string, inittransactioncode_279L: string, mainoccupationinc_437A: string, maxdpdtolerance_577P: string, num_group1: string, outstandingdebt_522A: string, pmtnum_8L: string, postype_4733339M: string, profession_152M: string, rejectreason_755M: string, rejectreasonclient_4145042M: string, revolvingaccount_394A: string, status_219L: string, tenor_203L: string]\n",
      "Tabela: train_applprev_2\n",
      "Número de registros: 14075487\n",
      "Número de colunas: 6\n",
      "DataFrame[summary: string, case_id: string, cacccardblochreas_147M: string, conts_type_509L: string, credacc_cards_status_52L: string, num_group1: string, num_group2: string]\n",
      "Tabela: train_credit_bureau_a_1\n",
      "Número de registros: 15940537\n",
      "Número de colunas: 79\n",
      "DataFrame[summary: string, case_id: string, annualeffectiverate_199L: string, annualeffectiverate_63L: string, classificationofcontr_13M: string, classificationofcontr_400M: string, contractst_545M: string, contractst_964M: string, contractsum_5085717L: string, credlmt_230A: string, credlmt_935A: string, dateofcredend_289D: string, dateofcredend_353D: string, dateofcredstart_181D: string, dateofcredstart_739D: string, dateofrealrepmt_138D: string, debtoutstand_525A: string, debtoverdue_47A: string, description_351M: string, dpdmax_139P: string, dpdmax_757P: string, dpdmaxdatemonth_442T: string, dpdmaxdatemonth_89T: string, dpdmaxdateyear_596T: string, dpdmaxdateyear_896T: string, financialinstitution_382M: string, financialinstitution_591M: string, instlamount_768A: string, instlamount_852A: string, interestrate_508L: string, lastupdate_1112D: string, lastupdate_388D: string, monthlyinstlamount_332A: string, monthlyinstlamount_674A: string, nominalrate_281L: string, nominalrate_498L: string, num_group1: string, numberofcontrsvalue_258L: string, numberofcontrsvalue_358L: string, numberofinstls_229L: string, numberofinstls_320L: string, numberofoutstandinstls_520L: string, numberofoutstandinstls_59L: string, numberofoverdueinstlmax_1039L: string, numberofoverdueinstlmax_1151L: string, numberofoverdueinstlmaxdat_148D: string, numberofoverdueinstlmaxdat_641D: string, numberofoverdueinstls_725L: string, numberofoverdueinstls_834L: string, outstandingamount_354A: string, outstandingamount_362A: string, overdueamount_31A: string, overdueamount_659A: string, overdueamountmax2_14A: string, overdueamountmax2_398A: string, overdueamountmax2date_1002D: string, overdueamountmax2date_1142D: string, overdueamountmax_155A: string, overdueamountmax_35A: string, overdueamountmaxdatemonth_284T: string, overdueamountmaxdatemonth_365T: string, overdueamountmaxdateyear_2T: string, overdueamountmaxdateyear_994T: string, periodicityofpmts_1102L: string, periodicityofpmts_837L: string, prolongationcount_1120L: string, prolongationcount_599L: string, purposeofcred_426M: string, purposeofcred_874M: string, refreshdate_3813885D: string, residualamount_488A: string, residualamount_856A: string, subjectrole_182M: string, subjectrole_93M: string, totalamount_6A: string, totalamount_996A: string, totaldebtoverduevalue_178A: string, totaldebtoverduevalue_718A: string, totaloutstanddebtvalue_39A: string, totaloutstanddebtvalue_668A: string]\n",
      "Tabela: train_credit_bureau_a_2\n",
      "Número de registros: 188298452\n",
      "Número de colunas: 19\n",
      "DataFrame[summary: string, case_id: string, collater_typofvalofguarant_298M: string, collater_typofvalofguarant_407M: string, collater_valueofguarantee_1124L: string, collater_valueofguarantee_876L: string, collaterals_typeofguarante_359M: string, collaterals_typeofguarante_669M: string, num_group1: string, num_group2: string, pmts_dpd_1073P: string, pmts_dpd_303P: string, pmts_month_158T: string, pmts_month_706T: string, pmts_overdue_1140A: string, pmts_overdue_1152A: string, pmts_year_1139T: string, pmts_year_507T: string, subjectroles_name_541M: string, subjectroles_name_838M: string]\n",
      "Tabela: train_credit_bureau_b_1\n",
      "Número de registros: 85791\n",
      "Número de colunas: 45\n",
      "DataFrame[summary: string, case_id: string, amount_1115A: string, classificationofcontr_1114M: string, contractdate_551D: string, contractmaturitydate_151D: string, contractst_516M: string, contracttype_653M: string, credlmt_1052A: string, credlmt_228A: string, credlmt_3940954A: string, credor_3940957M: string, credquantity_1099L: string, credquantity_984L: string, debtpastduevalue_732A: string, debtvalue_227A: string, dpd_550P: string, dpd_733P: string, dpdmax_851P: string, dpdmaxdatemonth_804T: string, dpdmaxdateyear_742T: string, installmentamount_644A: string, installmentamount_833A: string, instlamount_892A: string, interesteffectiverate_369L: string, interestrateyearly_538L: string, lastupdate_260D: string, maxdebtpduevalodued_3940955A: string, num_group1: string, numberofinstls_810L: string, overdueamountmax_950A: string, overdueamountmaxdatemonth_494T: string, overdueamountmaxdateyear_432T: string, periodicityofpmts_997L: string, periodicityofpmts_997M: string, pmtdaysoverdue_1135P: string, pmtmethod_731M: string, pmtnumpending_403L: string, purposeofcred_722M: string, residualamount_1093A: string, residualamount_127A: string, residualamount_3940956A: string, subjectrole_326M: string, subjectrole_43M: string, totalamount_503A: string, totalamount_881A: string]\n",
      "Tabela: train_credit_bureau_b_2\n",
      "Número de registros: 1286755\n",
      "Número de colunas: 6\n",
      "DataFrame[summary: string, case_id: string, num_group1: string, num_group2: string, pmts_date_1107D: string, pmts_dpdvalue_108P: string, pmts_pmtsoverdue_635A: string]\n",
      "Tabela: train_static_0\n",
      "Número de registros: 1526659\n",
      "Número de colunas: 168\n",
      "DataFrame[summary: string, case_id: string, actualdpdtolerance_344P: string, amtinstpaidbefduel24m_4187115A: string, annuity_780A: string, annuitynextmonth_57A: string, applicationcnt_361L: string, applications30d_658L: string, applicationscnt_1086L: string, applicationscnt_464L: string, applicationscnt_629L: string, applicationscnt_867L: string, avgdbddpdlast24m_3658932P: string, avgdbddpdlast3m_4187120P: string, avgdbdtollast24m_4525197P: string, avgdpdtolclosure24_3658938P: string, avginstallast24m_3658937A: string, avglnamtstart24m_4525187A: string, avgmaxdpdlast9m_3716943P: string, avgoutstandbalancel6m_4187114A: string, avgpmtlast12m_4525200A: string, bankacctype_710L: string, cardtype_51L: string, clientscnt12m_3712952L: string, clientscnt3m_3712950L: string, clientscnt6m_3712949L: string, clientscnt_100L: string, clientscnt_1022L: string, clientscnt_1071L: string, clientscnt_1130L: string, clientscnt_136L: string, clientscnt_157L: string, clientscnt_257L: string, clientscnt_304L: string, clientscnt_360L: string, clientscnt_493L: string, clientscnt_533L: string, clientscnt_887L: string, clientscnt_946L: string, cntincpaycont9m_3716944L: string, cntpmts24_3658933L: string, commnoinclast6m_3546845L: string, credamount_770A: string, credtype_322L: string, currdebt_22A: string, currdebtcredtyperange_828A: string, datefirstoffer_1144D: string, datelastinstal40dpd_247D: string, datelastunpaid_3546854D: string, daysoverduetolerancedd_3976961L: string, deferredmnthsnum_166L: string, disbursedcredamount_1113A: string, disbursementtype_67L: string, downpmt_116A: string, dtlastpmtallstes_4499206D: string, eir_270L: string, firstclxcampaign_1125D: string, firstdatedue_489D: string, homephncnt_628L: string, inittransactionamount_650A: string, inittransactioncode_186L: string, interestrate_311L: string, interestrategrace_34L: string, lastactivateddate_801D: string, lastapplicationdate_877D: string, lastapprcommoditycat_1041M: string, lastapprcommoditytypec_5251766M: string, lastapprcredamount_781A: string, lastapprdate_640D: string, lastcancelreason_561M: string, lastdelinqdate_224D: string, lastdependentsnum_448L: string, lastotherinc_902A: string, lastotherlnsexpense_631A: string, lastrejectcommoditycat_161M: string, lastrejectcommodtypec_5251769M: string, lastrejectcredamount_222A: string, lastrejectdate_50D: string, lastrejectreason_759M: string, lastrejectreasonclient_4145040M: string, lastrepayingdate_696D: string, lastst_736L: string, maininc_215A: string, mastercontrelectronic_519L: string, mastercontrexist_109L: string, maxannuity_159A: string, maxannuity_4075009A: string, maxdbddpdlast1m_3658939P: string, maxdbddpdtollast12m_3658940P: string, maxdbddpdtollast6m_4187119P: string, maxdebt4_972A: string, maxdpdfrom6mto36m_3546853P: string, maxdpdinstldate_3546855D: string, maxdpdinstlnum_3546846P: string, maxdpdlast12m_727P: string, maxdpdlast24m_143P: string, maxdpdlast3m_392P: string, maxdpdlast6m_474P: string, maxdpdlast9m_1059P: string, maxdpdtolerance_374P: string, maxinstallast24m_3658928A: string, maxlnamtstart6m_4525199A: string, maxoutstandbalancel12m_4187113A: string, maxpmtlast3m_4525190A: string, mindbddpdlast24m_3658935P: string, mindbdtollast24m_4525191P: string, mobilephncnt_593L: string, monthsannuity_845L: string, numactivecreds_622L: string, numactivecredschannel_414L: string, numactiverelcontr_750L: string, numcontrs3months_479L: string, numincomingpmts_3546848L: string, numinstlallpaidearly3d_817L: string, numinstls_657L: string, numinstlsallpaid_934L: string, numinstlswithdpd10_728L: string, numinstlswithdpd5_4187116L: string, numinstlswithoutdpd_562L: string, numinstmatpaidtearly2d_4499204L: string, numinstpaid_4499208L: string, numinstpaidearly3d_3546850L: string, numinstpaidearly3dest_4493216L: string, numinstpaidearly5d_1087L: string, numinstpaidearly5dest_4493211L: string, numinstpaidearly5dobd_4499205L: string, numinstpaidearly_338L: string, numinstpaidearlyest_4493214L: string, numinstpaidlastcontr_4325080L: string, numinstpaidlate1d_3546852L: string, numinstregularpaid_973L: string, numinstregularpaidest_4493210L: string, numinsttopaygr_769L: string, numinsttopaygrest_4493213L: string, numinstunpaidmax_3546851L: string, numinstunpaidmaxest_4493212L: string, numnotactivated_1143L: string, numpmtchanneldd_318L: string, numrejects9m_859L: string, paytype1st_925L: string, paytype_783L: string, payvacationpostpone_4187118D: string, pctinstlsallpaidearl3d_427L: string, pctinstlsallpaidlat10d_839L: string, pctinstlsallpaidlate1d_3546856L: string, pctinstlsallpaidlate4d_3546849L: string, pctinstlsallpaidlate6d_3546844L: string, pmtnum_254L: string, posfpd10lastmonth_333P: string, posfpd30lastmonth_3976960P: string, posfstqpd30lastmonth_3976962P: string, previouscontdistrict_112M: string, price_1097A: string, sellerplacecnt_915L: string, sellerplacescnt_216L: string, sumoutstandtotal_3546847A: string, sumoutstandtotalest_4493215A: string, totaldebt_9A: string, totalsettled_863A: string, totinstallast1m_4525188A: string, twobodfilling_608L: string, typesuite_864L: string, validfrom_1069D: string]\n"
     ]
    },
    {
     "name": "stdout",
     "output_type": "stream",
     "text": [
      "Tabela: train_base\n",
      "Número de registros: 1526659\n",
      "Número de colunas: 5\n",
      "DataFrame[summary: string, case_id: string, date_decision: string, MONTH: string, WEEK_NUM: string, target: string]\n",
      "Tabela: train_debitcard_1\n",
      "Número de registros: 157302\n",
      "Número de colunas: 6\n",
      "DataFrame[summary: string, case_id: string, last180dayaveragebalance_704A: string, last180dayturnover_1134A: string, last30dayturnover_651A: string, num_group1: string, openingdate_857D: string]\n",
      "Tabela: train_deposit_1\n",
      "Número de registros: 145086\n",
      "Número de colunas: 5\n",
      "DataFrame[summary: string, case_id: string, amount_416A: string, contractenddate_991D: string, num_group1: string, openingdate_313D: string]\n",
      "Tabela: train_other_1\n",
      "Número de registros: 51109\n",
      "Número de colunas: 7\n",
      "DataFrame[summary: string, case_id: string, amtdebitincoming_4809443A: string, amtdebitoutgoing_4809440A: string, amtdepositbalance_4809441A: string, amtdepositincoming_4809444A: string, amtdepositoutgoing_4809442A: string, num_group1: string]\n",
      "Tabela: train_person_1\n",
      "Número de registros: 2973991\n",
      "Número de colunas: 37\n",
      "DataFrame[summary: string, case_id: string, birth_259D: string, birthdate_87D: string, childnum_185L: string, contaddr_district_15M: string, contaddr_zipcode_807M: string, education_927M: string, empl_employedfrom_271D: string, empl_employedtotal_800L: string, empl_industry_691L: string, empladdr_district_926M: string, empladdr_zipcode_114M: string, familystate_447L: string, gender_992L: string, housetype_905L: string, housingtype_772L: string, incometype_1044T: string, language1_981M: string, mainoccupationinc_384A: string, maritalst_703L: string, num_group1: string, personindex_1023L: string, persontype_1072L: string, persontype_792L: string, registaddr_district_1083M: string, registaddr_zipcode_184M: string, relationshiptoclient_415T: string, relationshiptoclient_642T: string, role_1084L: string, role_993L: string, sex_738L: string, type_25L: string]\n",
      "Tabela: train_person_2\n",
      "Número de registros: 1643410\n",
      "Número de colunas: 11\n",
      "DataFrame[summary: string, case_id: string, addres_district_368M: string, addres_role_871L: string, addres_zip_823M: string, conts_role_79M: string, empls_economicalst_849M: string, empls_employedfrom_796D: string, empls_employer_name_740M: string, num_group1: string, num_group2: string, relatedpersons_role_762T: string]\n",
      "Tabela: train_static_cb_0\n",
      "Número de registros: 1500476\n",
      "Número de colunas: 53\n",
      "DataFrame[summary: string, case_id: string, assignmentdate_238D: string, assignmentdate_4527235D: string, assignmentdate_4955616D: string, birthdate_574D: string, contractssum_5085716L: string, dateofbirth_337D: string, dateofbirth_342D: string, days120_123L: string, days180_256L: string, days30_165L: string, days360_512L: string, days90_310L: string, description_5085714M: string, education_1103M: string, education_88M: string, firstquarter_103L: string, for3years_128L: string, for3years_504L: string, for3years_584L: string, formonth_118L: string, formonth_206L: string, formonth_535L: string, forquarter_1017L: string, forquarter_462L: string, forquarter_634L: string, fortoday_1092L: string, forweek_1077L: string, forweek_528L: string, forweek_601L: string, foryear_618L: string, foryear_818L: string, foryear_850L: string, fourthquarter_440L: string, maritalst_385M: string, maritalst_893M: string, numberofqueries_373L: string, pmtaverage_3A: string, pmtaverage_4527227A: string, pmtaverage_4955615A: string, pmtcount_4527229L: string, pmtcount_4955617L: string, pmtcount_693L: string, pmtscount_423L: string, pmtssum_45A: string, requesttype_4525192L: string, responsedate_1012D: string, responsedate_4527233D: string, responsedate_4917613D: string, riskassesment_302T: string, riskassesment_940T: string, secondquarter_766L: string, thirdquarter_1082L: string]\n",
      "Tabela: train_tax_registry_a_1\n",
      "Número de registros: 3275770\n",
      "Número de colunas: 5\n",
      "DataFrame[summary: string, case_id: string, amount_4527230A: string, name_4527232M: string, num_group1: string, recorddate_4527225D: string]\n",
      "Tabela: train_tax_registry_b_1\n",
      "Número de registros: 1107933\n",
      "Número de colunas: 5\n",
      "DataFrame[summary: string, case_id: string, amount_4917619A: string, deductiondate_4917603D: string, name_4917606M: string, num_group1: string]\n",
      "Tabela: train_tax_registry_c_1\n",
      "Número de registros: 3343800\n",
      "Número de colunas: 5\n",
      "DataFrame[summary: string, case_id: string, employername_160M: string, num_group1: string, pmtamount_36A: string, processingdate_168D: string]\n"
     ]
    }
   ],
   "source": [
    "# Acumulador de resultados\n",
    "resultados = {}\n",
    "\n",
    "# Alimentar resultados a cada execução\n",
    "for nome, df in variaveis_criadas.items():\n",
    "    resultado = analise_basica_spark_dict(df, nome_tabela=nome, chave_primaria=\"case_id\")  \n",
    "    resultados[nome] = resultado"
   ]
  },
  {
   "cell_type": "code",
   "execution_count": 69,
   "id": "b5649c07",
   "metadata": {},
   "outputs": [],
   "source": [
    "# Salvar arquivo json com informações da descrição das tabelas\n",
    "with open(f\"{diretorio}\\\\docs\\analise_tabelas.json\", \"w\", encoding=\"utf-8\") as f:\n",
    "    json.dump(resultados, f, ensure_ascii=False, indent=4)"
   ]
  },
  {
   "cell_type": "code",
   "execution_count": 70,
   "id": "641e8712",
   "metadata": {},
   "outputs": [
    {
     "data": {
      "text/html": [
       "<div>\n",
       "<style scoped>\n",
       "    .dataframe tbody tr th:only-of-type {\n",
       "        vertical-align: middle;\n",
       "    }\n",
       "\n",
       "    .dataframe tbody tr th {\n",
       "        vertical-align: top;\n",
       "    }\n",
       "\n",
       "    .dataframe thead th {\n",
       "        text-align: right;\n",
       "    }\n",
       "</style>\n",
       "<table border=\"1\" class=\"dataframe\">\n",
       "  <thead>\n",
       "    <tr style=\"text-align: right;\">\n",
       "      <th></th>\n",
       "      <th>tabela</th>\n",
       "      <th>total_registros</th>\n",
       "      <th>total_colunas</th>\n",
       "      <th>schema</th>\n",
       "      <th>describe</th>\n",
       "      <th>colunas_com_nulos</th>\n",
       "      <th>chave_primaria</th>\n",
       "    </tr>\n",
       "  </thead>\n",
       "  <tbody>\n",
       "    <tr>\n",
       "      <th>0</th>\n",
       "      <td>train_applprev_1</td>\n",
       "      <td>6525979</td>\n",
       "      <td>41</td>\n",
       "      <td>[[case_id, bigint], [actualdpd_943P, double], ...</td>\n",
       "      <td>{'count': {'case_id': '6525979', 'actualdpd_94...</td>\n",
       "      <td>{'actualdpd_943P': 0.04, 'annuity_853A': 3.84,...</td>\n",
       "      <td>{'coluna': 'case_id', 'status': 'inválida'}</td>\n",
       "    </tr>\n",
       "    <tr>\n",
       "      <th>1</th>\n",
       "      <td>train_applprev_2</td>\n",
       "      <td>14075487</td>\n",
       "      <td>6</td>\n",
       "      <td>[[case_id, bigint], [cacccardblochreas_147M, s...</td>\n",
       "      <td>{'count': {'case_id': '14075487', 'cacccardblo...</td>\n",
       "      <td>{'cacccardblochreas_147M': 0.78, 'conts_type_5...</td>\n",
       "      <td>{'coluna': 'case_id', 'status': 'inválida'}</td>\n",
       "    </tr>\n",
       "    <tr>\n",
       "      <th>2</th>\n",
       "      <td>train_credit_bureau_a_1</td>\n",
       "      <td>15940537</td>\n",
       "      <td>79</td>\n",
       "      <td>[[case_id, bigint], [annualeffectiverate_199L,...</td>\n",
       "      <td>{'count': {'case_id': '15940537', 'annualeffec...</td>\n",
       "      <td>{'annualeffectiverate_199L': 95.44, 'annualeff...</td>\n",
       "      <td>{'coluna': 'case_id', 'status': 'inválida'}</td>\n",
       "    </tr>\n",
       "    <tr>\n",
       "      <th>3</th>\n",
       "      <td>train_credit_bureau_a_2</td>\n",
       "      <td>188298452</td>\n",
       "      <td>19</td>\n",
       "      <td>[[case_id, bigint], [collater_typofvalofguaran...</td>\n",
       "      <td>{'count': {'case_id': '188298452', 'collater_t...</td>\n",
       "      <td>{'collater_valueofguarantee_1124L': 98.54, 'co...</td>\n",
       "      <td>{'coluna': 'case_id', 'status': 'inválida'}</td>\n",
       "    </tr>\n",
       "    <tr>\n",
       "      <th>4</th>\n",
       "      <td>train_credit_bureau_b_1</td>\n",
       "      <td>85791</td>\n",
       "      <td>45</td>\n",
       "      <td>[[case_id, bigint], [amount_1115A, double], [c...</td>\n",
       "      <td>{'count': {'case_id': '85791', 'amount_1115A':...</td>\n",
       "      <td>{'amount_1115A': 49.08, 'contractdate_551D': 4...</td>\n",
       "      <td>{'coluna': 'case_id', 'status': 'inválida'}</td>\n",
       "    </tr>\n",
       "    <tr>\n",
       "      <th>5</th>\n",
       "      <td>train_credit_bureau_b_2</td>\n",
       "      <td>1286755</td>\n",
       "      <td>6</td>\n",
       "      <td>[[case_id, bigint], [num_group1, bigint], [num...</td>\n",
       "      <td>{'count': {'case_id': '1286755', 'num_group1':...</td>\n",
       "      <td>{'pmts_dpdvalue_108P': 0.42, 'pmts_pmtsoverdue...</td>\n",
       "      <td>{'coluna': 'case_id', 'status': 'inválida'}</td>\n",
       "    </tr>\n",
       "    <tr>\n",
       "      <th>6</th>\n",
       "      <td>train_static_0</td>\n",
       "      <td>1526659</td>\n",
       "      <td>168</td>\n",
       "      <td>[[case_id, bigint], [actualdpdtolerance_344P, ...</td>\n",
       "      <td>{'count': {'case_id': '1526659', 'actualdpdtol...</td>\n",
       "      <td>{'actualdpdtolerance_344P': 27.39, 'amtinstpai...</td>\n",
       "      <td>{'coluna': 'case_id', 'status': 'válida'}</td>\n",
       "    </tr>\n",
       "    <tr>\n",
       "      <th>7</th>\n",
       "      <td>train_base</td>\n",
       "      <td>1526659</td>\n",
       "      <td>5</td>\n",
       "      <td>[[case_id, bigint], [date_decision, string], [...</td>\n",
       "      <td>{'count': {'case_id': '1526659', 'date_decisio...</td>\n",
       "      <td>{}</td>\n",
       "      <td>{'coluna': 'case_id', 'status': 'válida'}</td>\n",
       "    </tr>\n",
       "    <tr>\n",
       "      <th>8</th>\n",
       "      <td>train_debitcard_1</td>\n",
       "      <td>157302</td>\n",
       "      <td>6</td>\n",
       "      <td>[[case_id, bigint], [last180dayaveragebalance_...</td>\n",
       "      <td>{'count': {'case_id': '157302', 'last180dayave...</td>\n",
       "      <td>{'last180dayaveragebalance_704A': 92.23, 'last...</td>\n",
       "      <td>{'coluna': 'case_id', 'status': 'inválida'}</td>\n",
       "    </tr>\n",
       "    <tr>\n",
       "      <th>9</th>\n",
       "      <td>train_deposit_1</td>\n",
       "      <td>145086</td>\n",
       "      <td>5</td>\n",
       "      <td>[[case_id, bigint], [amount_416A, double], [co...</td>\n",
       "      <td>{'count': {'case_id': '145086', 'amount_416A':...</td>\n",
       "      <td>{'contractenddate_991D': 54.92}</td>\n",
       "      <td>{'coluna': 'case_id', 'status': 'inválida'}</td>\n",
       "    </tr>\n",
       "    <tr>\n",
       "      <th>10</th>\n",
       "      <td>train_other_1</td>\n",
       "      <td>51109</td>\n",
       "      <td>7</td>\n",
       "      <td>[[case_id, bigint], [amtdebitincoming_4809443A...</td>\n",
       "      <td>{'count': {'case_id': '51109', 'amtdebitincomi...</td>\n",
       "      <td>{}</td>\n",
       "      <td>{'coluna': 'case_id', 'status': 'válida'}</td>\n",
       "    </tr>\n",
       "    <tr>\n",
       "      <th>11</th>\n",
       "      <td>train_person_1</td>\n",
       "      <td>2973991</td>\n",
       "      <td>37</td>\n",
       "      <td>[[case_id, bigint], [birth_259D, string], [bir...</td>\n",
       "      <td>{'count': {'case_id': '2973991', 'birth_259D':...</td>\n",
       "      <td>{'birth_259D': 48.67, 'birthdate_87D': 99.16, ...</td>\n",
       "      <td>{'coluna': 'case_id', 'status': 'inválida'}</td>\n",
       "    </tr>\n",
       "    <tr>\n",
       "      <th>12</th>\n",
       "      <td>train_person_2</td>\n",
       "      <td>1643410</td>\n",
       "      <td>11</td>\n",
       "      <td>[[case_id, bigint], [addres_district_368M, str...</td>\n",
       "      <td>{'count': {'case_id': '1643410', 'addres_distr...</td>\n",
       "      <td>{'addres_role_871L': 95.88, 'empls_employedfro...</td>\n",
       "      <td>{'coluna': 'case_id', 'status': 'inválida'}</td>\n",
       "    </tr>\n",
       "    <tr>\n",
       "      <th>13</th>\n",
       "      <td>train_static_cb_0</td>\n",
       "      <td>1500476</td>\n",
       "      <td>53</td>\n",
       "      <td>[[case_id, bigint], [assignmentdate_238D, stri...</td>\n",
       "      <td>{'count': {'case_id': '1500476', 'assignmentda...</td>\n",
       "      <td>{'assignmentdate_238D': 90.87, 'assignmentdate...</td>\n",
       "      <td>{'coluna': 'case_id', 'status': 'válida'}</td>\n",
       "    </tr>\n",
       "    <tr>\n",
       "      <th>14</th>\n",
       "      <td>train_tax_registry_a_1</td>\n",
       "      <td>3275770</td>\n",
       "      <td>5</td>\n",
       "      <td>[[case_id, bigint], [amount_4527230A, double],...</td>\n",
       "      <td>{'count': {'case_id': '3275770', 'amount_45272...</td>\n",
       "      <td>{}</td>\n",
       "      <td>{'coluna': 'case_id', 'status': 'inválida'}</td>\n",
       "    </tr>\n",
       "    <tr>\n",
       "      <th>15</th>\n",
       "      <td>train_tax_registry_b_1</td>\n",
       "      <td>1107933</td>\n",
       "      <td>5</td>\n",
       "      <td>[[case_id, bigint], [amount_4917619A, double],...</td>\n",
       "      <td>{'count': {'case_id': '1107933', 'amount_49176...</td>\n",
       "      <td>{}</td>\n",
       "      <td>{'coluna': 'case_id', 'status': 'inválida'}</td>\n",
       "    </tr>\n",
       "    <tr>\n",
       "      <th>16</th>\n",
       "      <td>train_tax_registry_c_1</td>\n",
       "      <td>3343800</td>\n",
       "      <td>5</td>\n",
       "      <td>[[case_id, bigint], [employername_160M, string...</td>\n",
       "      <td>{'count': {'case_id': '3343800', 'employername...</td>\n",
       "      <td>{}</td>\n",
       "      <td>{'coluna': 'case_id', 'status': 'inválida'}</td>\n",
       "    </tr>\n",
       "  </tbody>\n",
       "</table>\n",
       "</div>"
      ],
      "text/plain": [
       "                     tabela  total_registros  total_colunas  \\\n",
       "0          train_applprev_1          6525979             41   \n",
       "1          train_applprev_2         14075487              6   \n",
       "2   train_credit_bureau_a_1         15940537             79   \n",
       "3   train_credit_bureau_a_2        188298452             19   \n",
       "4   train_credit_bureau_b_1            85791             45   \n",
       "5   train_credit_bureau_b_2          1286755              6   \n",
       "6            train_static_0          1526659            168   \n",
       "7                train_base          1526659              5   \n",
       "8         train_debitcard_1           157302              6   \n",
       "9           train_deposit_1           145086              5   \n",
       "10            train_other_1            51109              7   \n",
       "11           train_person_1          2973991             37   \n",
       "12           train_person_2          1643410             11   \n",
       "13        train_static_cb_0          1500476             53   \n",
       "14   train_tax_registry_a_1          3275770              5   \n",
       "15   train_tax_registry_b_1          1107933              5   \n",
       "16   train_tax_registry_c_1          3343800              5   \n",
       "\n",
       "                                               schema  \\\n",
       "0   [[case_id, bigint], [actualdpd_943P, double], ...   \n",
       "1   [[case_id, bigint], [cacccardblochreas_147M, s...   \n",
       "2   [[case_id, bigint], [annualeffectiverate_199L,...   \n",
       "3   [[case_id, bigint], [collater_typofvalofguaran...   \n",
       "4   [[case_id, bigint], [amount_1115A, double], [c...   \n",
       "5   [[case_id, bigint], [num_group1, bigint], [num...   \n",
       "6   [[case_id, bigint], [actualdpdtolerance_344P, ...   \n",
       "7   [[case_id, bigint], [date_decision, string], [...   \n",
       "8   [[case_id, bigint], [last180dayaveragebalance_...   \n",
       "9   [[case_id, bigint], [amount_416A, double], [co...   \n",
       "10  [[case_id, bigint], [amtdebitincoming_4809443A...   \n",
       "11  [[case_id, bigint], [birth_259D, string], [bir...   \n",
       "12  [[case_id, bigint], [addres_district_368M, str...   \n",
       "13  [[case_id, bigint], [assignmentdate_238D, stri...   \n",
       "14  [[case_id, bigint], [amount_4527230A, double],...   \n",
       "15  [[case_id, bigint], [amount_4917619A, double],...   \n",
       "16  [[case_id, bigint], [employername_160M, string...   \n",
       "\n",
       "                                             describe  \\\n",
       "0   {'count': {'case_id': '6525979', 'actualdpd_94...   \n",
       "1   {'count': {'case_id': '14075487', 'cacccardblo...   \n",
       "2   {'count': {'case_id': '15940537', 'annualeffec...   \n",
       "3   {'count': {'case_id': '188298452', 'collater_t...   \n",
       "4   {'count': {'case_id': '85791', 'amount_1115A':...   \n",
       "5   {'count': {'case_id': '1286755', 'num_group1':...   \n",
       "6   {'count': {'case_id': '1526659', 'actualdpdtol...   \n",
       "7   {'count': {'case_id': '1526659', 'date_decisio...   \n",
       "8   {'count': {'case_id': '157302', 'last180dayave...   \n",
       "9   {'count': {'case_id': '145086', 'amount_416A':...   \n",
       "10  {'count': {'case_id': '51109', 'amtdebitincomi...   \n",
       "11  {'count': {'case_id': '2973991', 'birth_259D':...   \n",
       "12  {'count': {'case_id': '1643410', 'addres_distr...   \n",
       "13  {'count': {'case_id': '1500476', 'assignmentda...   \n",
       "14  {'count': {'case_id': '3275770', 'amount_45272...   \n",
       "15  {'count': {'case_id': '1107933', 'amount_49176...   \n",
       "16  {'count': {'case_id': '3343800', 'employername...   \n",
       "\n",
       "                                    colunas_com_nulos  \\\n",
       "0   {'actualdpd_943P': 0.04, 'annuity_853A': 3.84,...   \n",
       "1   {'cacccardblochreas_147M': 0.78, 'conts_type_5...   \n",
       "2   {'annualeffectiverate_199L': 95.44, 'annualeff...   \n",
       "3   {'collater_valueofguarantee_1124L': 98.54, 'co...   \n",
       "4   {'amount_1115A': 49.08, 'contractdate_551D': 4...   \n",
       "5   {'pmts_dpdvalue_108P': 0.42, 'pmts_pmtsoverdue...   \n",
       "6   {'actualdpdtolerance_344P': 27.39, 'amtinstpai...   \n",
       "7                                                  {}   \n",
       "8   {'last180dayaveragebalance_704A': 92.23, 'last...   \n",
       "9                     {'contractenddate_991D': 54.92}   \n",
       "10                                                 {}   \n",
       "11  {'birth_259D': 48.67, 'birthdate_87D': 99.16, ...   \n",
       "12  {'addres_role_871L': 95.88, 'empls_employedfro...   \n",
       "13  {'assignmentdate_238D': 90.87, 'assignmentdate...   \n",
       "14                                                 {}   \n",
       "15                                                 {}   \n",
       "16                                                 {}   \n",
       "\n",
       "                                 chave_primaria  \n",
       "0   {'coluna': 'case_id', 'status': 'inválida'}  \n",
       "1   {'coluna': 'case_id', 'status': 'inválida'}  \n",
       "2   {'coluna': 'case_id', 'status': 'inválida'}  \n",
       "3   {'coluna': 'case_id', 'status': 'inválida'}  \n",
       "4   {'coluna': 'case_id', 'status': 'inválida'}  \n",
       "5   {'coluna': 'case_id', 'status': 'inválida'}  \n",
       "6     {'coluna': 'case_id', 'status': 'válida'}  \n",
       "7     {'coluna': 'case_id', 'status': 'válida'}  \n",
       "8   {'coluna': 'case_id', 'status': 'inválida'}  \n",
       "9   {'coluna': 'case_id', 'status': 'inválida'}  \n",
       "10    {'coluna': 'case_id', 'status': 'válida'}  \n",
       "11  {'coluna': 'case_id', 'status': 'inválida'}  \n",
       "12  {'coluna': 'case_id', 'status': 'inválida'}  \n",
       "13    {'coluna': 'case_id', 'status': 'válida'}  \n",
       "14  {'coluna': 'case_id', 'status': 'inválida'}  \n",
       "15  {'coluna': 'case_id', 'status': 'inválida'}  \n",
       "16  {'coluna': 'case_id', 'status': 'inválida'}  "
      ]
     },
     "metadata": {},
     "output_type": "display_data"
    }
   ],
   "source": [
    "# Carrega o JSON em um dicionário Python\n",
    "with open(f\"{diretorio}\\\\docs\\analise_tabelas.json\", \"r\", encoding=\"utf-8\") as f:\n",
    "    dados = json.load(f)\n",
    "\n",
    "# Transformar o dicionário em uma lista de tabelas\n",
    "dados_lista = list(dados.values())\n",
    "\n",
    "# Criar DataFrame com o resumo das tabelas\n",
    "df_resumo = pd.DataFrame(dados_lista)\n",
    "\n",
    "from IPython.display import display\n",
    "\n",
    "display(df_resumo.head(20))\n"
   ]
  },
  {
   "cell_type": "markdown",
   "id": "b1dbe028",
   "metadata": {},
   "source": [
    "## 📊 Resultado da descrição das tabelas\n",
    "### 🧩 Estrutura da descrição\n",
    "\n",
    "Baseado na estudo feito anteriormente, os datasets foram empilhados conforme os parâmetros estabelecidos no estudo gerando um panorâma geral das váriáveis de cada grupo característico de tabelas.\n",
    "\n",
    "O arquivo resultante desse processo é um arquivo json. A escolha por esse formato foi mediante o grupo de informações que seria gerado. A estrutura do json se mostrou com melhor distribuição do que formatos tabulares.\n",
    "\n",
    "A maioria das tabelas apresenta valores nulos em suas colunas o que aponta para avaliação da necessidade de tratamento ou descarte dessas variáveis.\n",
    "\n",
    "A maioria das colunas não possuem chave primária (relacionamento 1:N). Mas possuem todas possuem a variável case_id. Essa variável será a chave primária após o tratamento necessário em cada tabela.\n",
    "\n",
    "A tabela **train_base** será a tabela semente onde as outras tabelas, que se mostrarem agregadoras, serão agregadas para construção de uma tabela geral. "
   ]
  },
  {
   "cell_type": "markdown",
   "id": "c6777c9c",
   "metadata": {},
   "source": [
    "## 📖 Geração de dicionário de variáveis (em português)"
   ]
  },
  {
   "cell_type": "code",
   "execution_count": 15,
   "id": "4db2932b",
   "metadata": {},
   "outputs": [],
   "source": [
    "# Carregando dicionário de variáveies\n",
    "descricao = spark.read.csv(f\"{diretorio}\\\\data\\raw\\feature_definitions.csv\", header = True)"
   ]
  },
  {
   "cell_type": "code",
   "execution_count": 16,
   "id": "25700ec5",
   "metadata": {
    "collapsed": true
   },
   "outputs": [
    {
     "name": "stdout",
     "output_type": "stream",
     "text": [
      "+------------------+--------------------------+---------+\n",
      "|tabela            |coluna                    |tipo_dado|\n",
      "+------------------+--------------------------+---------+\n",
      "|train_base        |case_id                   |bigint   |\n",
      "|train_base        |date_decision             |string   |\n",
      "|train_base        |MONTH                     |bigint   |\n",
      "|train_base        |WEEK_NUM                  |bigint   |\n",
      "|train_base        |target                    |bigint   |\n",
      "|train_applprev_1_0|case_id                   |bigint   |\n",
      "|train_applprev_1_0|actualdpd_943P            |double   |\n",
      "|train_applprev_1_0|annuity_853A              |double   |\n",
      "|train_applprev_1_0|approvaldate_319D         |string   |\n",
      "|train_applprev_1_0|byoccupationinc_3656910L  |double   |\n",
      "|train_applprev_1_0|cancelreason_3545846M     |string   |\n",
      "|train_applprev_1_0|childnum_21L              |double   |\n",
      "|train_applprev_1_0|creationdate_885D         |string   |\n",
      "|train_applprev_1_0|credacc_actualbalance_314A|double   |\n",
      "|train_applprev_1_0|credacc_credlmt_575A      |double   |\n",
      "|train_applprev_1_0|credacc_maxhisbal_375A    |double   |\n",
      "|train_applprev_1_0|credacc_minhisbal_90A     |double   |\n",
      "|train_applprev_1_0|credacc_status_367L       |string   |\n",
      "|train_applprev_1_0|credacc_transactions_402L |double   |\n",
      "|train_applprev_1_0|credamount_590A           |double   |\n",
      "+------------------+--------------------------+---------+\n",
      "only showing top 20 rows\n",
      "\n"
     ]
    }
   ],
   "source": [
    "# Transformar os itens da descrição de tabelas em lista e iterar por índice\n",
    "estrutura_tabelas = []\n",
    "\n",
    "tabelas_lista = list(tabelas.items())\n",
    "\n",
    "for i in range(len(tabelas_lista)):\n",
    "    nome_tabela, df = tabelas_lista[i]\n",
    "    for campo in df.schema.fields:\n",
    "        estrutura_tabelas.append((nome_tabela, campo.name, campo.dataType.simpleString()))\n",
    "\n",
    "# Cria DataFrame com o índice de posição\n",
    "estrutura_df = spark.createDataFrame(estrutura_tabelas, [\"tabela\", \"coluna\", \"tipo_dado\"])\n",
    "estrutura_df.show(truncate=False)"
   ]
  },
  {
   "cell_type": "code",
   "execution_count": 17,
   "id": "c8a8f0f4",
   "metadata": {},
   "outputs": [],
   "source": [
    "# Junção da descrição das tabelas com o dicionário \n",
    "dicionario_variaveis = estrutura_df.join(descricao, estrutura_df.coluna == descricao.Variable, how='left')"
   ]
  },
  {
   "cell_type": "code",
   "execution_count": 18,
   "id": "e36790b9",
   "metadata": {},
   "outputs": [],
   "source": [
    "dicionario_variaveis = dicionario_variaveis.drop('Variable')"
   ]
  },
  {
   "cell_type": "code",
   "execution_count": 19,
   "id": "a301e7db",
   "metadata": {
    "collapsed": true
   },
   "outputs": [
    {
     "name": "stdout",
     "output_type": "stream",
     "text": [
      "+------------------+--------------------+---------+--------------------+\n",
      "|            tabela|              coluna|tipo_dado|         Description|\n",
      "+------------------+--------------------+---------+--------------------+\n",
      "|        train_base|             case_id|   bigint|                NULL|\n",
      "|        train_base|       date_decision|   string|                NULL|\n",
      "|        train_base|               MONTH|   bigint|                NULL|\n",
      "|        train_base|            WEEK_NUM|   bigint|                NULL|\n",
      "|        train_base|              target|   bigint|                NULL|\n",
      "|train_applprev_1_0|             case_id|   bigint|                NULL|\n",
      "|train_applprev_1_0|      actualdpd_943P|   double|Days Past Due (DP...|\n",
      "|train_applprev_1_0|        annuity_853A|   double|Monthly annuity f...|\n",
      "|train_applprev_1_0|   approvaldate_319D|   string|Approval Date of ...|\n",
      "|train_applprev_1_0|byoccupationinc_3...|   double|Applicant's incom...|\n",
      "|train_applprev_1_0|cancelreason_3545...|   string|Application cance...|\n",
      "|train_applprev_1_0|        childnum_21L|   double|Number of childre...|\n",
      "|train_applprev_1_0|   creationdate_885D|   string|Date when previou...|\n",
      "|train_applprev_1_0|credacc_actualbal...|   double|Actual balance on...|\n",
      "|train_applprev_1_0|credacc_credlmt_575A|   double|Credit card credi...|\n",
      "|train_applprev_1_0|credacc_maxhisbal...|   double|Maximal historica...|\n",
      "|train_applprev_1_0|credacc_minhisbal...|   double|Minimum historica...|\n",
      "|train_applprev_1_0| credacc_status_367L|   string|Account status of...|\n",
      "|train_applprev_1_0|credacc_transacti...|   double|Number of transac...|\n",
      "|train_applprev_1_0|     credamount_590A|   double|Loan amount or ca...|\n",
      "+------------------+--------------------+---------+--------------------+\n",
      "only showing top 20 rows\n",
      "\n"
     ]
    }
   ],
   "source": [
    "dicionario_variaveis.show()"
   ]
  },
  {
   "cell_type": "code",
   "execution_count": 21,
   "id": "7afdc0ce",
   "metadata": {
    "collapsed": true
   },
   "outputs": [
    {
     "name": "stdout",
     "output_type": "stream",
     "text": [
      "Requirement already satisfied: deep-translator in c:\\users\\fred\\anaconda3\\lib\\site-packages (1.11.4)\n",
      "Requirement already satisfied: beautifulsoup4<5.0.0,>=4.9.1 in c:\\users\\fred\\anaconda3\\lib\\site-packages (from deep-translator) (4.11.1)\n",
      "Requirement already satisfied: requests<3.0.0,>=2.23.0 in c:\\users\\fred\\anaconda3\\lib\\site-packages (from deep-translator) (2.32.3)\n",
      "Requirement already satisfied: soupsieve>1.2 in c:\\users\\fred\\anaconda3\\lib\\site-packages (from beautifulsoup4<5.0.0,>=4.9.1->deep-translator) (2.3.1)\n",
      "Requirement already satisfied: charset-normalizer<4,>=2 in c:\\users\\fred\\anaconda3\\lib\\site-packages (from requests<3.0.0,>=2.23.0->deep-translator) (2.0.4)\n",
      "Requirement already satisfied: idna<4,>=2.5 in c:\\users\\fred\\anaconda3\\lib\\site-packages (from requests<3.0.0,>=2.23.0->deep-translator) (2.10)\n",
      "Requirement already satisfied: urllib3<3,>=1.21.1 in c:\\users\\fred\\anaconda3\\lib\\site-packages (from requests<3.0.0,>=2.23.0->deep-translator) (2.4.0)\n",
      "Requirement already satisfied: certifi>=2017.4.17 in c:\\users\\fred\\anaconda3\\lib\\site-packages (from requests<3.0.0,>=2.23.0->deep-translator) (2023.5.7)\n"
     ]
    }
   ],
   "source": [
    "# Instalar pacate para tradução da coluna \"Description\"\n",
    "!pip install deep-translator"
   ]
  },
  {
   "cell_type": "code",
   "execution_count": 22,
   "id": "4d6d78bc",
   "metadata": {},
   "outputs": [],
   "source": [
    "# Tradução dos valores da coluna \"Description\"\n",
    "from deep_translator import GoogleTranslator\n",
    "from pyspark.sql.functions import col\n",
    "import pandas as pd\n",
    "\n",
    "# Extrair valores únicos da coluna Description (não nulos)\n",
    "descricoes_unicas = (dicionario_variaveis\n",
    "                     .select(\"Description\")\n",
    "                     .where(col(\"Description\").isNotNull())\n",
    "                     .distinct()\n",
    "                     .rdd.flatMap(lambda x: x)\n",
    "                     .collect())\n",
    "\n",
    "# Traduzir usando GoogleTranslator\n",
    "mapa_traducao = {desc: GoogleTranslator(source='en', target='pt').translate(desc) for desc in descricoes_unicas}"
   ]
  },
  {
   "cell_type": "code",
   "execution_count": 23,
   "id": "020402c1",
   "metadata": {},
   "outputs": [],
   "source": [
    "# Criação da coluna \"Descricao\"\n",
    "from pyspark.sql.functions import udf\n",
    "from pyspark.sql.types import StringType\n",
    "\n",
    "# UDF para mapear as traduções\n",
    "@udf(StringType())\n",
    "def traduzir_udf(desc):\n",
    "    return mapa_traducao.get(desc, None)\n",
    "\n",
    "# Criar nova coluna com as traduções\n",
    "tabela_descritiva = dicionario_variaveis.withColumn(\"Descricao\", traduzir_udf(col(\"Description\")))"
   ]
  },
  {
   "cell_type": "code",
   "execution_count": 24,
   "id": "18c13c98",
   "metadata": {
    "collapsed": true
   },
   "outputs": [
    {
     "name": "stdout",
     "output_type": "stream",
     "text": [
      "+--------------------------+------------------------------------------------------------------------------+-----------------------------------------------------------------------------+\n",
      "|coluna                    |Description                                                                   |Descricao                                                                    |\n",
      "+--------------------------+------------------------------------------------------------------------------+-----------------------------------------------------------------------------+\n",
      "|case_id                   |NULL                                                                          |NULL                                                                         |\n",
      "|date_decision             |NULL                                                                          |NULL                                                                         |\n",
      "|MONTH                     |NULL                                                                          |NULL                                                                         |\n",
      "|WEEK_NUM                  |NULL                                                                          |NULL                                                                         |\n",
      "|target                    |NULL                                                                          |NULL                                                                         |\n",
      "|case_id                   |NULL                                                                          |NULL                                                                         |\n",
      "|actualdpd_943P            |Days Past Due (DPD) of previous contract (actual).                            |Dias vencidos (DPD) do contrato anterior (real).                             |\n",
      "|annuity_853A              |Monthly annuity for previous applications.                                    |Anuidade mensal para aplicativos anteriores.                                 |\n",
      "|approvaldate_319D         |Approval Date of Previous Application                                         |Data de aprovação do pedido anterior                                         |\n",
      "|byoccupationinc_3656910L  |Applicant's income from previous applications.                                |Receita do candidato de aplicações anteriores.                               |\n",
      "|cancelreason_3545846M     |Application cancellation reason.                                              |Razão de cancelamento do aplicativo.                                         |\n",
      "|childnum_21L              |Number of children in the previous application.                               |Número de crianças na aplicação anterior.                                    |\n",
      "|creationdate_885D         |Date when previous application was created.                                   |Data em que o aplicativo anterior foi criado.                                |\n",
      "|credacc_actualbalance_314A|Actual balance on credit account.                                             |BALANÇO REAL RECUTA DE CRÉDITO.                                              |\n",
      "|credacc_credlmt_575A      |Credit card credit limit provided for previous applications.                  |Limite de crédito do cartão de crédito fornecido para aplicativos anteriores.|\n",
      "|credacc_maxhisbal_375A    |Maximal historical balance of previous credit account                         |Balanço histórico máximo da conta de crédito anterior                        |\n",
      "|credacc_minhisbal_90A     |Minimum historical balance of previous credit accounts.                       |Saldo histórico mínimo de contas de crédito anteriores.                      |\n",
      "|credacc_status_367L       |Account status of previous credit applications.                               |Status da conta de pedidos de crédito anteriores.                            |\n",
      "|credacc_transactions_402L |Number of transactions made with the previous credit account of the applicant.|Número de transações feitas com a conta de crédito anterior do requerente.   |\n",
      "|credamount_590A           |Loan amount or card limit of previous applications.                           |Valor do empréstimo ou limite de cartão de pedidos anteriores.               |\n",
      "+--------------------------+------------------------------------------------------------------------------+-----------------------------------------------------------------------------+\n",
      "only showing top 20 rows\n",
      "\n"
     ]
    }
   ],
   "source": [
    "tabela_descritiva.select(\"coluna\", \"Description\", \"Descricao\").show(truncate=False)"
   ]
  },
  {
   "cell_type": "code",
   "execution_count": 25,
   "id": "2daf6408",
   "metadata": {},
   "outputs": [],
   "source": [
    "# Transformação em arquivos Pandas para salvar em .md\n",
    "tabela_descritiva_pd = tabela_descritiva.toPandas()"
   ]
  },
  {
   "cell_type": "code",
   "execution_count": 26,
   "id": "05c9eb02",
   "metadata": {},
   "outputs": [],
   "source": [
    "# Salvar como Markdown\n",
    "md_path = f\"{diretorio}\\\\docs\\tabela_descritiva.md\"\n",
    "\n",
    "\n",
    "with open(md_path, \"w\", encoding=\"utf-8\") as f:\n",
    "    f.write(tabela_descritiva_pd.to_markdown(index=False))\n"
   ]
  },
  {
   "cell_type": "markdown",
   "id": "fbab04b7",
   "metadata": {},
   "source": [
    "## 📊 Resultado da Geração de dicionário de variáveis\n",
    "### 🧩 Estrutura de execução\n",
    "\n",
    "O dicionário gerado foi baseado no arquivo **feature_definitions.csv** disponibilizado na base de dados originalizados no kaggle.\n",
    "A tradução da coluna **Description** foi realizada utilizando a biblioteca **deep-translator** gerando assim a variável **Descricao**\n",
    "Após esse tratamento, foi gerado o arquivo **tabela_descritiva.md** encontrada em:\n",
    "**f\"{diretorio}\\\\data\\raw\\feature_definitions.csv\"**"
   ]
  }
 ],
 "metadata": {
  "kernelspec": {
   "display_name": "Python 3 (ipykernel)",
   "language": "python",
   "name": "python3"
  },
  "language_info": {
   "codemirror_mode": {
    "name": "ipython",
    "version": 3
   },
   "file_extension": ".py",
   "mimetype": "text/x-python",
   "name": "python",
   "nbconvert_exporter": "python",
   "pygments_lexer": "ipython3",
   "version": "3.9.12"
  }
 },
 "nbformat": 4,
 "nbformat_minor": 5
}
